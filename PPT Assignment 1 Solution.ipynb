{
 "cells": [
  {
   "cell_type": "code",
   "execution_count": null,
   "id": "3d974288",
   "metadata": {},
   "outputs": [],
   "source": [
    "# PPT Assignment 1 Solution"
   ]
  },
  {
   "cell_type": "code",
   "execution_count": 1,
   "id": "b5ceb626",
   "metadata": {},
   "outputs": [
    {
     "name": "stdout",
     "output_type": "stream",
     "text": [
      "[0, 1]\n"
     ]
    }
   ],
   "source": [
    "#1\n",
    "def twoSum(nums, target):\n",
    "    numMap = {}  # Dictionary to store the number and its index\n",
    "\n",
    "    for i, num in enumerate(nums):\n",
    "        complement = target - num\n",
    "        if complement in numMap:\n",
    "            # Found the complement, return the indices\n",
    "            return [numMap[complement], i]\n",
    "        numMap[num] = i  # Store the number and its index\n",
    "\n",
    "    # No solution found, return an empty list\n",
    "    return []\n",
    "\n",
    "nums = [2, 7, 11, 15]\n",
    "target = 9\n",
    "\n",
    "result = twoSum(nums, target)\n",
    "\n",
    "if result:\n",
    "    print([result[0],result[1]])\n",
    "    # print(\"Values:\", nums[result[0]], \",\", nums[result[1]])\n",
    "else:\n",
    "    print(\"No solution found.\")\n"
   ]
  },
  {
   "cell_type": "code",
   "execution_count": 2,
   "id": "430987a8",
   "metadata": {},
   "outputs": [
    {
     "name": "stdout",
     "output_type": "stream",
     "text": [
      "Output: 2\n",
      "nums: [2, 2]\n"
     ]
    }
   ],
   "source": [
    "#2\n",
    "def removeElement(nums, val):\n",
    "    left = 0  # Pointer to track the current position\n",
    "    right = len(nums) - 1  # Pointer to track the end position\n",
    "\n",
    "    while left <= right:\n",
    "        if nums[left] == val:\n",
    "            nums[left] = nums[right]  # Replace with the element at the end\n",
    "            right -= 1  # Decrease the end pointer\n",
    "        else:\n",
    "            left += 1  # Move the current pointer\n",
    "\n",
    "    return left  # Return the number of elements not equal to val\n",
    "\n",
    "nums = [3, 2, 2, 3]\n",
    "val = 3\n",
    "\n",
    "k = removeElement(nums, val)\n",
    "\n",
    "print(\"Output:\", k)\n",
    "print(\"nums:\", nums[:k])\n"
   ]
  },
  {
   "cell_type": "code",
   "execution_count": 3,
   "id": "259a2972",
   "metadata": {},
   "outputs": [
    {
     "name": "stdout",
     "output_type": "stream",
     "text": [
      "Output: 2\n"
     ]
    }
   ],
   "source": [
    "#3\n",
    "def searchInsert(nums, target):\n",
    "    left = 0\n",
    "    right = len(nums) - 1\n",
    "\n",
    "    while left <= right:\n",
    "        mid = left + (right - left) // 2\n",
    "\n",
    "        if nums[mid] == target:\n",
    "            return mid\n",
    "        elif nums[mid] < target:\n",
    "            left = mid + 1\n",
    "        else:\n",
    "            right = mid - 1\n",
    "\n",
    "    return left\n",
    "\n",
    "nums = [1, 3, 5, 6]\n",
    "target = 5\n",
    "\n",
    "index = searchInsert(nums, target)\n",
    "\n",
    "print(\"Output:\", index)\n"
   ]
  },
  {
   "cell_type": "code",
   "execution_count": 4,
   "id": "b3725b4c",
   "metadata": {},
   "outputs": [
    {
     "name": "stdout",
     "output_type": "stream",
     "text": [
      "Output: [1, 2, 4]\n"
     ]
    }
   ],
   "source": [
    "#4\n",
    "def plusOne(digits):\n",
    "    carry = 1  # Initialize carry to 1 since we're incrementing by one\n",
    "    result = []  # Initialize an empty list to store the resulting digits\n",
    "\n",
    "    for i in range(len(digits)-1, -1, -1):\n",
    "        sum = digits[i] + carry\n",
    "        result.insert(0, sum % 10)  # Insert the least significant digit at the beginning of the result\n",
    "        carry = sum // 10\n",
    "\n",
    "    if carry:\n",
    "        result.insert(0, carry)  # If there's a remaining carry, add it to the result\n",
    "\n",
    "    return result\n",
    "\n",
    "digits = [1, 2, 3]\n",
    "result = plusOne(digits)\n",
    "\n",
    "print(\"Output:\", result)\n"
   ]
  },
  {
   "cell_type": "code",
   "execution_count": 5,
   "id": "502097d5",
   "metadata": {},
   "outputs": [
    {
     "name": "stdout",
     "output_type": "stream",
     "text": [
      "Output: [1, 2, 2, 3, 5, 6]\n"
     ]
    }
   ],
   "source": [
    "#5\n",
    "def merge(nums1, m, nums2, n):\n",
    "    # Initialize pointers for nums1, nums2, and the result array\n",
    "    p1 = m - 1\n",
    "    p2 = n - 1\n",
    "    p = m + n - 1\n",
    "\n",
    "    while p1 >= 0 and p2 >= 0:\n",
    "        if nums1[p1] >= nums2[p2]:\n",
    "            nums1[p] = nums1[p1]\n",
    "            p1 -= 1\n",
    "        else:\n",
    "            nums1[p] = nums2[p2]\n",
    "            p2 -= 1\n",
    "        p -= 1\n",
    "\n",
    "    # Copy remaining elements from nums2 to nums1 if any\n",
    "    while p2 >= 0:\n",
    "        nums1[p] = nums2[p2]\n",
    "        p2 -= 1\n",
    "        p -= 1\n",
    "\n",
    "# Example usage\n",
    "nums1 = [1, 2, 3, 0, 0, 0]\n",
    "m = 3\n",
    "nums2 = [2, 5, 6]\n",
    "n = 3\n",
    "\n",
    "merge(nums1, m, nums2, n)\n",
    "\n",
    "print(\"Output:\", nums1)\n"
   ]
  },
  {
   "cell_type": "code",
   "execution_count": 6,
   "id": "cf6ed6a0",
   "metadata": {},
   "outputs": [
    {
     "name": "stdout",
     "output_type": "stream",
     "text": [
      "Output: True\n"
     ]
    }
   ],
   "source": [
    "#6\n",
    "def containsDuplicate(nums):\n",
    "    unique_set = set()\n",
    "\n",
    "    for num in nums:\n",
    "        if num in unique_set:\n",
    "            return True\n",
    "        unique_set.add(num)\n",
    "\n",
    "    return False\n",
    "\n",
    "nums = [1, 2, 3, 1]\n",
    "result = containsDuplicate(nums)\n",
    "\n",
    "print(\"Output:\", result)\n"
   ]
  },
  {
   "cell_type": "code",
   "execution_count": 7,
   "id": "6db75e2a",
   "metadata": {},
   "outputs": [
    {
     "name": "stdout",
     "output_type": "stream",
     "text": [
      "Output: [1, 3, 12, 0, 0]\n"
     ]
    }
   ],
   "source": [
    "#7\n",
    "def moveZeroes(nums):\n",
    "    zero_pointer = 0  # Pointer to track the position to place the next non-zero element\n",
    "\n",
    "    # Iterate through the array\n",
    "    for i in range(len(nums)):\n",
    "        if nums[i] != 0:\n",
    "            # Swap the non-zero element with the element at zero_pointer\n",
    "            nums[i], nums[zero_pointer] = nums[zero_pointer], nums[i]\n",
    "            zero_pointer += 1\n",
    "\n",
    "nums = [0, 1, 0, 3, 12]\n",
    "moveZeroes(nums)\n",
    "\n",
    "print(\"Output:\", nums)\n"
   ]
  },
  {
   "cell_type": "code",
   "execution_count": 8,
   "id": "dd661bb4",
   "metadata": {},
   "outputs": [
    {
     "name": "stdout",
     "output_type": "stream",
     "text": [
      "Output: [2, 3]\n"
     ]
    }
   ],
   "source": [
    "#8\n",
    "def findErrorNums(nums):\n",
    "    n = len(nums)\n",
    "    num_set = set()\n",
    "    duplicate_num = -1\n",
    "    missing_num = -1\n",
    "\n",
    "    # Find the duplicate number and store it\n",
    "    for num in nums:\n",
    "        if num in num_set:\n",
    "            duplicate_num = num\n",
    "        else:\n",
    "            num_set.add(num)\n",
    "\n",
    "    # Find the missing number by comparing the set with the range from 1 to n\n",
    "    for i in range(1, n+1):\n",
    "        if i not in num_set:\n",
    "            missing_num = i\n",
    "            break\n",
    "\n",
    "    return [duplicate_num, missing_num]\n",
    "\n",
    "nums = [1, 2, 2, 4]\n",
    "result = findErrorNums(nums)\n",
    "\n",
    "print(\"Output:\", result)\n"
   ]
  },
  {
   "cell_type": "code",
   "execution_count": null,
   "id": "e4274b4c",
   "metadata": {},
   "outputs": [],
   "source": []
  }
 ],
 "metadata": {
  "kernelspec": {
   "display_name": "Python 3 (ipykernel)",
   "language": "python",
   "name": "python3"
  },
  "language_info": {
   "codemirror_mode": {
    "name": "ipython",
    "version": 3
   },
   "file_extension": ".py",
   "mimetype": "text/x-python",
   "name": "python",
   "nbconvert_exporter": "python",
   "pygments_lexer": "ipython3",
   "version": "3.10.5"
  }
 },
 "nbformat": 4,
 "nbformat_minor": 5
}
